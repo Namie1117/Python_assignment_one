{
 "cells": [
  {
   "cell_type": "code",
   "execution_count": 1,
   "metadata": {},
   "outputs": [
    {
     "name": "stdout",
     "output_type": "stream",
     "text": [
      "you have 5 chocolates 7  chocolates, that's a delicious total of  12  chocolates!!!\n"
     ]
    }
   ],
   "source": [
    "num1 = int(input(\"your first number: \"))\n",
    "num2 = int(input(\"your second number: \"))\n",
    "\n",
    "value = num1 + num2\n",
    "\n",
    "print(\"you have\", num1,\"chocolates\", num2,\" chocolates, that's a delicious total of \", value, \" chocolates!!!\")"
   ]
  },
  {
   "cell_type": "code",
   "execution_count": 9,
   "metadata": {},
   "outputs": [
    {
     "name": "stdout",
     "output_type": "stream",
     "text": [
      "hello there, \n",
      "happy birthday akosua  Happy day to you, you were born in the zoo, thats why you are goofy happy birthday to you. hip hip hip, hurraaaaaaay!!!!\n"
     ]
    }
   ],
   "source": [
    "print(\"hello there, \")\n",
    "name = input(\"please may I know your name?\")\n",
    "print(\"happy birthday\" ,name, \" Happy day to you, you were born in the zoo, thats why you are goofy happy birthday to you. hip hip hip, hurraaaaaaay!!!!\")"
   ]
  },
  {
   "cell_type": "code",
   "execution_count": 14,
   "metadata": {},
   "outputs": [
    {
     "name": "stdout",
     "output_type": "stream",
     "text": [
      "hello there,\n",
      "your temperature in fahrenheits is:  68.0\n"
     ]
    }
   ],
   "source": [
    "print(\"hello there,\")\n",
    "temperature = float(input(\"kindly type your disgusting temperature and let me convert it to fahrenheitz with my expensive magic: \"))\n",
    "Fahrenheitz = (temperature * 9/5) + 32.\n",
    "print(\"your temperature in fahrenheits is: \",Fahrenheitz,)\n",
    "\n"
   ]
  },
  {
   "cell_type": "code",
   "execution_count": 5,
   "metadata": {},
   "outputs": [
    {
     "name": "stdout",
     "output_type": "stream",
     "text": [
      "welcome\n",
      "Hello gchvb welcome! You seem like a fantastic person at 54 years old.\n"
     ]
    }
   ],
   "source": [
    "print(\"welcome\")\n",
    "name = input(\"may I kindly know your name so I address you by that: \")\n",
    "age = input(\"How old are you? \")\n",
    "print(\"Hello\" ,name , \"welcome! You seem like a fantastic person at\" , age , \"years old.\")\n"
   ]
  },
  {
   "cell_type": "code",
   "execution_count": 24,
   "metadata": {},
   "outputs": [
    {
     "name": "stdout",
     "output_type": "stream",
     "text": [
      "your product with a 7% tax was worth 3.0100000000000002\n",
      "your product was worth 46.01\n"
     ]
    }
   ],
   "source": [
    "tax = 0.07\n",
    "price = float(input(\"whats the price of this? \"))\n",
    "taxed_price = price * tax\n",
    "final_price = taxed_price + price\n",
    "print(\"your product with a 7% tax was worth\",taxed_price)\n",
    "print(\"your product was worth\",final_price)\n",
    "\n"
   ]
  },
  {
   "cell_type": "code",
   "execution_count": 20,
   "metadata": {},
   "outputs": [
    {
     "name": "stdout",
     "output_type": "stream",
     "text": [
      "we are down at the dumbster lab, come and lets invent disastrous events\n",
      "combining fermentedkenks and wine will produce fermentedkenks wine\n"
     ]
    }
   ],
   "source": [
    "print(\"we are down at the dumbster lab, come and lets invent disastrous events\", )\n",
    "st_ingredient = input(\"whats your number one ingredient: \")\n",
    "nd_ingredient = input(\"what's your number two ingredient: \")\n",
    "print(\"combining\" ,st_ingredient, \"and\" ,nd_ingredient, \"will produce\" ,st_ingredient,nd_ingredient)"
   ]
  }
 ],
 "metadata": {
  "kernelspec": {
   "display_name": "Python 3",
   "language": "python",
   "name": "python3"
  },
  "language_info": {
   "codemirror_mode": {
    "name": "ipython",
    "version": 3
   },
   "file_extension": ".py",
   "mimetype": "text/x-python",
   "name": "python",
   "nbconvert_exporter": "python",
   "pygments_lexer": "ipython3",
   "version": "3.11.8"
  }
 },
 "nbformat": 4,
 "nbformat_minor": 2
}
